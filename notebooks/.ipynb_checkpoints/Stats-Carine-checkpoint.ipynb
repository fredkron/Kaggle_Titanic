{
 "cells": [
  {
   "cell_type": "code",
   "execution_count": 33,
   "metadata": {},
   "outputs": [],
   "source": [
    "from scipy import stats"
   ]
  },
  {
   "cell_type": "code",
   "execution_count": 27,
   "metadata": {},
   "outputs": [],
   "source": [
    "genta = [22, 35, 14]"
   ]
  },
  {
   "cell_type": "code",
   "execution_count": 28,
   "metadata": {},
   "outputs": [],
   "source": [
    "ami = [57, 80, 67]"
   ]
  },
  {
   "cell_type": "code",
   "execution_count": 29,
   "metadata": {},
   "outputs": [],
   "source": [
    "genta_1_2 = [22, 35]"
   ]
  },
  {
   "cell_type": "code",
   "execution_count": 30,
   "metadata": {},
   "outputs": [],
   "source": [
    "genta_2_3 = [35, 14]"
   ]
  },
  {
   "cell_type": "code",
   "execution_count": 31,
   "metadata": {},
   "outputs": [],
   "source": [
    "ami_1_2 = [57, 80]"
   ]
  },
  {
   "cell_type": "code",
   "execution_count": 32,
   "metadata": {},
   "outputs": [],
   "source": [
    "ami_2_3 = [80, 67]"
   ]
  },
  {
   "cell_type": "code",
   "execution_count": 44,
   "metadata": {},
   "outputs": [],
   "source": [
    "statistic, p_val = stats.ttest_ind(genta_1_2, genta_2_3)"
   ]
  },
  {
   "cell_type": "code",
   "execution_count": 45,
   "metadata": {},
   "outputs": [
    {
     "name": "stdout",
     "output_type": "stream",
     "text": [
      "GENTA\n",
      "Statistic: 0.3239105320715664\n",
      "p_val: 0.776741771125621\n"
     ]
    }
   ],
   "source": [
    "print('GENTA\\nStatistic: {}\\np_val: {}'.format(statistic, p_val))"
   ]
  },
  {
   "cell_type": "code",
   "execution_count": 46,
   "metadata": {},
   "outputs": [],
   "source": [
    "statistic, p_val = stats.ttest_ind(ami_1_2, ami_2_3)"
   ]
  },
  {
   "cell_type": "code",
   "execution_count": 47,
   "metadata": {},
   "outputs": [
    {
     "name": "stdout",
     "output_type": "stream",
     "text": [
      "AMI\n",
      "Statistic: -0.3785055820522323\n",
      "p_val: 0.7414561550024905\n"
     ]
    }
   ],
   "source": [
    "print('AMI\\nStatistic: {}\\np_val: {}'.format(statistic, p_val))"
   ]
  },
  {
   "cell_type": "markdown",
   "metadata": {},
   "source": [
    "# ----------------------------------------------------------------------------------------------------"
   ]
  },
  {
   "cell_type": "code",
   "execution_count": 62,
   "metadata": {},
   "outputs": [],
   "source": [
    "ami_2012_2014 = [[65, 86], [13, 51]]"
   ]
  },
  {
   "cell_type": "code",
   "execution_count": 63,
   "metadata": {},
   "outputs": [],
   "source": [
    "chi2, p_val, _, _ = stats.chi2_contingency(ami_2012_2014)"
   ]
  },
  {
   "cell_type": "code",
   "execution_count": 64,
   "metadata": {},
   "outputs": [
    {
     "name": "stdout",
     "output_type": "stream",
     "text": [
      "chi2 ami_2012_2014:\n",
      "chi2: 9.08973285811463\n",
      "p_val: 0.0025704841570119885\n"
     ]
    }
   ],
   "source": [
    "print('chi2 ami_2012_2014:\\nchi2: {}\\np_val: {}'.format(chi2, p_val))"
   ]
  },
  {
   "cell_type": "code",
   "execution_count": 65,
   "metadata": {},
   "outputs": [],
   "source": [
    "ami_2014_2016 = [[14, 27], [13, 51]]"
   ]
  },
  {
   "cell_type": "code",
   "execution_count": 66,
   "metadata": {},
   "outputs": [],
   "source": [
    "chi2, p_val, _, _ = stats.chi2_contingency(ami_2014_2016)"
   ]
  },
  {
   "cell_type": "code",
   "execution_count": 67,
   "metadata": {},
   "outputs": [
    {
     "name": "stdout",
     "output_type": "stream",
     "text": [
      "chi2 ami_2014_2016:\n",
      "chi2: 1.8318516944183856\n",
      "p_val: 0.17590898907029534\n"
     ]
    }
   ],
   "source": [
    "print('chi2 ami_2014_2016:\\nchi2: {}\\np_val: {}'.format(chi2, p_val))"
   ]
  },
  {
   "cell_type": "code",
   "execution_count": 68,
   "metadata": {},
   "outputs": [],
   "source": [
    "genta_2012_2014 = [[153, 43], [47, 25]]"
   ]
  },
  {
   "cell_type": "code",
   "execution_count": 69,
   "metadata": {},
   "outputs": [],
   "source": [
    "chi2, p_val, _, _ = stats.chi2_contingency(genta_2012_2014)"
   ]
  },
  {
   "cell_type": "code",
   "execution_count": 70,
   "metadata": {},
   "outputs": [
    {
     "name": "stdout",
     "output_type": "stream",
     "text": [
      "chi2 genta_2012_2014:\n",
      "chi2: 3.894397342270241\n",
      "p_val: 0.048447418010117024\n"
     ]
    }
   ],
   "source": [
    "print('chi2 genta_2012_2014:\\nchi2: {}\\np_val: {}'.format(chi2, p_val))"
   ]
  },
  {
   "cell_type": "code",
   "execution_count": 71,
   "metadata": {},
   "outputs": [],
   "source": [
    "genta_2014_2016 = [[8, 50], [25, 47]]"
   ]
  },
  {
   "cell_type": "code",
   "execution_count": 72,
   "metadata": {},
   "outputs": [],
   "source": [
    "chi2, p_val, _, _ = stats.chi2_contingency(genta_2014_2016)"
   ]
  },
  {
   "cell_type": "code",
   "execution_count": 73,
   "metadata": {},
   "outputs": [
    {
     "name": "stdout",
     "output_type": "stream",
     "text": [
      "chi2 genta_2014_2016:\n",
      "chi2: 6.364938788285749\n",
      "p_val: 0.011639711053265396\n"
     ]
    }
   ],
   "source": [
    "print('chi2 genta_2014_2016:\\nchi2: {}\\np_val: {}'.format(chi2, p_val))"
   ]
  },
  {
   "cell_type": "code",
   "execution_count": 74,
   "metadata": {},
   "outputs": [],
   "source": [
    "ami_QI = [[13, 28], [0, 26]]"
   ]
  },
  {
   "cell_type": "code",
   "execution_count": 75,
   "metadata": {},
   "outputs": [],
   "source": [
    "chi2, p_val, _, _ = stats.chi2_contingency(ami_QI)"
   ]
  },
  {
   "cell_type": "code",
   "execution_count": 76,
   "metadata": {},
   "outputs": [
    {
     "name": "stdout",
     "output_type": "stream",
     "text": [
      "chi2 ami_QI:\n",
      "chi2: 8.301471472554962\n",
      "p_val: 0.0039612969829860515\n"
     ]
    }
   ],
   "source": [
    "print('chi2 ami_QI:\\nchi2: {}\\np_val: {}'.format(chi2, p_val))"
   ]
  },
  {
   "cell_type": "code",
   "execution_count": 77,
   "metadata": {},
   "outputs": [],
   "source": [
    "genta_QI = [[50, 8], [1, 16]]"
   ]
  },
  {
   "cell_type": "code",
   "execution_count": 78,
   "metadata": {},
   "outputs": [],
   "source": [
    "chi2, p_val, _, _ = stats.chi2_contingency(genta_QI)"
   ]
  },
  {
   "cell_type": "code",
   "execution_count": 79,
   "metadata": {},
   "outputs": [
    {
     "name": "stdout",
     "output_type": "stream",
     "text": [
      "chi2 genta_QI:\n",
      "chi2: 35.377033990573906\n",
      "p_val: 2.7167143435160856e-09\n"
     ]
    }
   ],
   "source": [
    "print('chi2 genta_QI:\\nchi2: {}\\np_val: {}'.format(chi2, p_val))"
   ]
  },
  {
   "cell_type": "code",
   "execution_count": null,
   "metadata": {},
   "outputs": [],
   "source": []
  }
 ],
 "metadata": {
  "kernelspec": {
   "display_name": "Python 3",
   "language": "python",
   "name": "python3"
  },
  "language_info": {
   "codemirror_mode": {
    "name": "ipython",
    "version": 3
   },
   "file_extension": ".py",
   "mimetype": "text/x-python",
   "name": "python",
   "nbconvert_exporter": "python",
   "pygments_lexer": "ipython3",
   "version": "3.6.5"
  }
 },
 "nbformat": 4,
 "nbformat_minor": 2
}
